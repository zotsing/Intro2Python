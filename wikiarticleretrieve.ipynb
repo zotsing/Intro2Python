
# coding: utf-8

# In[2]:

import graphlab as gl


# In[3]:

##load text data
people = gl.SFrame('http://s3.amazonaws.com/dato-datasets/coursera/text_similarity/people_wiki.gl')


# In[4]:

people


# In[5]:

len(people)


# In[5]:

#Explore the dataset and checkout the text contents#
obama = people[people['name']== "Barack Obama"]


# In[6]:

obama


# In[7]:

obama['text']


# In[8]:

##get word counts for obama article#
obama['word_count'] = gl.text_analytics.count_words(obama['text'])


# In[9]:

obama


# In[11]:

##sort obama word_cout
obama_word_count_tbl = obama[['word_count']].stack('word_count',new_column_name = ['word', 'count']) ##stack create new column


# In[12]:

obama_word_count_tbl


# In[13]:

obama_word_count_tbl.sort('count', ascending=False)


# In[6]:

##compute TF-IDF for the corpus
people['word_count'] = gl.text_analytics.count_words(people['text'])


# In[7]:

tfidf = gl.text_analytics.tf_idf(people['word_count'])
people['tfidf'] = tfidf['docs']
##examine TF-IDF for obama article
##re-read obama row
obama = people[people['name'] == 'Barack Obama']
obama[['tfidf']].stack('tfidf', new_column_name=['word','tfidf']).sort('tfidf',ascending=False)


# In[19]:

##compare similarity between obama, clinton and beckham
obama = people[people['name'] == 'Barack Obama']
clinton = people[people['name'] == 'Bill Clinton']
beckham = people[people['name'] == 'David Beckham']
gl.distances.cosine(obama['tfidf'][0],clinton['tfidf'][0])


# In[20]:

gl.distances.cosine(obama['tfidf'][0],beckham['tfidf'][0])


# In[8]:

##building knn for document retrieval
knn_model = gl.nearest_neighbors.create(people,features=['tfidf'],label='name',distance='cosine')


# In[9]:

##find who is cloest to obama
knn_model.query(obama)


# In[10]:

#working on Elton John
john = people[people['name']=='Elton John']


# In[11]:

print john


# In[12]:

john[['word_count']].stack('word_count',new_column_name=['word','count']).sort('count',ascending=False)


# In[13]:

john[['tfidf']].stack('tfidf',new_column_name=['word','tfidf']).sort('tfidf',ascending=False)


# In[14]:

##compute cosine distance between Elton and Victoria
victoria = people[people['name']=='Victoria Beckham']
gl.distances.cosine(john['tfidf'][0],victoria['tfidf'][0])


# In[15]:

paul = people[people['name']=='Paul McCartney']


# In[16]:

gl.distances.cosine(john['tfidf'][0],paul['tfidf'][0])


# In[17]:

###compute KNN using raw word counts
knn_word_count = gl.nearest_neighbors.create(people, label='name', features=['word_count'], distance='cosine')


# In[18]:

knn_word_count.query(john)


# In[19]:

knn_model.query(john)


# In[20]:

knn_word_count.query(victoria)


# In[21]:

knn_model.query(victoria).print_rows(20)


# In[22]:

arnold = people[people['name'] == 'Arnold Schwarzenegger']
knn_word_count.query(arnold)


# In[23]:

knn_model.query(arnold)


# In[ ]:



