import graphlab as gl
gl.product_key.set_product_key('ADD1-EFD1-A45B-889A-2385-83C4-7895-E110')
sf = gl.SFrame('home_data.gl')

sf.groupby(['zipcode'], {'price_avg':gl.aggregate.MEAN('price')}).topk('price_avg')

(len(sf[sf['sqft_living'] > 2000]) - len(sf[sf['sqft_living'] > 4000])) * 1.0 / len(sf)

train_data, test_data = sf.random_split(.8, seed=0)
my_features = ['bedrooms', 'bathrooms', 'sqft_living', 'sqft_lot', 'floors', 'zipcode']

my_features_model = gl.linear_regression.create(train_data,target='price',features=my_features)
advanced_features = ['condition', # condition of house
                     'grade', # measure of qality of construction
                     'waterfront', # waterfront property 
                     'view', # type of view
                     'sqft_above', # square feet above ground
                     'sqft_basement', # square feet in basement
                     'yr_built', # the year built
                     'yr_renovated', # the year renovated
                     'lat', 'long', # the lat-long of the parcel
                     'sqft_living15', # average sq.ft. of 15 nearest neighbors 
                     'sqft_lot15', # average lot size of 15 nearest neighbors 
                    ]
advanced_model = gl.regression.create(train_data, target='price', features = my_features + advanced_features)
print my_features_model.evaluate(test_data)
print advanced_model.evaluate(test_data)
