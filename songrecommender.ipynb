

##This project is used for song recommendation 
##loading library and data
import graphlab as gl
gl.canvas.set_target('ipynb')
song_data = gl.SFrame('song_data.gl/')
[INFO] This trial license of GraphLab Create is assigned to zotsing@gmail.com and will expire on November 24, 2015. Please contact trial@dato.com for licensing options or to request a free non-commercial license for personal or academic use.

[INFO] Start server at: ipc:///tmp/graphlab_server-1220 - Server binary: /usr/local/lib/python2.7/dist-packages/graphlab/unity_server - Server log: /tmp/graphlab_server_1446050651.log
[INFO] GraphLab Server Version: 1.6.1
In [3]:

 
Out[3]:
user_id	song_id	listen_count	title	artist
b80344d063b5ccb3212f76538
f3d9e43d87dca9e ...	SOAKIMP12A8C130995	1	The Cove	Jack Johnson
b80344d063b5ccb3212f76538
f3d9e43d87dca9e ...	SOBBMDR12A8C13253B	2	Entre Dos Aguas	Paco De Lucia
b80344d063b5ccb3212f76538
f3d9e43d87dca9e ...	SOBXHDL12A81C204C0	1	Stronger	Kanye West
b80344d063b5ccb3212f76538
f3d9e43d87dca9e ...	SOBYHAJ12A6701BF1D	1	Constellations	Jack Johnson
b80344d063b5ccb3212f76538
f3d9e43d87dca9e ...	SODACBL12A8C13C273	1	Learn To Fly	Foo Fighters
b80344d063b5ccb3212f76538
f3d9e43d87dca9e ...	SODDNQT12A6D4F5F7E	5	Apuesta Por El Rock 'N'
Roll ...	Héroes del Silencio
b80344d063b5ccb3212f76538
f3d9e43d87dca9e ...	SODXRTY12AB0180F3B	1	Paper Gangsta	Lady GaGa
b80344d063b5ccb3212f76538
f3d9e43d87dca9e ...	SOFGUAY12AB017B0A8	1	Stacked Actors	Foo Fighters
b80344d063b5ccb3212f76538
f3d9e43d87dca9e ...	SOFRQTD12A81C233C0	1	Sehr kosmisch	Harmonia
b80344d063b5ccb3212f76538
f3d9e43d87dca9e ...	SOHQWYZ12A6D4FA701	1	Heaven's gonna burn your
eyes ...	Thievery Corporation
feat. Emiliana Torrini ...
song
The Cove - Jack Johnson
Entre Dos Aguas - Paco De
Lucia ...
Stronger - Kanye West
Constellations - Jack
Johnson ...
Learn To Fly - Foo
Fighters ...
Apuesta Por El Rock 'N'
Roll - Héroes del ...
Paper Gangsta - Lady GaGa
Stacked Actors - Foo
Fighters ...
Sehr kosmisch - Harmonia
Heaven's gonna burn your
eyes - Thievery ...
[1116609 rows x 6 columns]
Note: Only the head of the SFrame is printed.
You can use print_rows(num_rows=m, num_columns=n) to print more rows and columns.
In [5]:

len(song_data)
Out[5]:
1116609
In [16]:

##histogram of songs played
song_data['title'].show()
In [78]:

##count number of users
users = song_data['user_id'].unique()
west = song_data[song_data['artist'] == 'Kanye West']
fighters = song_data[song_data['artist']=='Foo Fighters']
swift = song_data[song_data['artist']== 'Taylor Swift']
gaga = song_data[song_data['artist'] ==  'Lady GaGa']
leon = song_data[song_data['artist'] ==  'Kings Of Leon']
cold = song_data[song_data['artist'] ==  'Coldplay']
tabbert = song_data[song_data['artist'] ==  'William Tabbert']
nico = song_data[song_data['artist'] ==  'Velvet Underground & Nico']
cool = song_data[song_data['artist'] ==  'The Cool Kids']
print len(west['user_id'].unique()), len(fighters['user_id'].unique())
print len(swift['user_id'].unique()),len(gaga['user_id'].unique())
print sum(leon['listen_count']), sum(cold['listen_count'])
print sum(swift['listen_count']), sum(gaga['listen_count'])
print sum(tabbert['listen_count']), sum(nico['listen_count'])
print sum(west['listen_count']), sum(cool['listen_count'])
2522 2055
3246 2928
43218 35362
19376 12224
14 80
9992 73
In [77]:

##use groupby
counts = song_data.groupby(key_columns = 'artist', operations={'total_count': gl.aggregate.SUM('listen_count')})
counts.sort('total_count', ascending=False)
Out[77]:
artist	total_count
Kings Of Leon	43218
Dwight Yoakam	40619
Björk	38889
Coldplay	35362
Florence + The Machine	33387
Justin Bieber	29715
Alliance Ethnik	26689
OneRepublic	25754
Train	25402
The Black Keys	22184
[3375 rows x 2 columns]
Note: Only the head of the SFrame is printed.
You can use print_rows(num_rows=m, num_columns=n) to print more rows and columns.
In [19]:

##creat training and testing dataset
train_data, test_data = song_data.random_split(.8, seed=0)
In [24]:

##build a global simple popularity-based recommender
pop_model = gl.popularity_recommender.create(train_data, user_id='user_id', 
                                             item_id='song')
PROGRESS: Recsys training: model = popularity
PROGRESS: Warning: Ignoring columns song_id, listen_count, title, artist;
PROGRESS:     To use one of these as a target column, set target = <column_name>
PROGRESS:     and use a method that allows the use of a target.
PROGRESS: Preparing data set.
PROGRESS:     Data has 893580 observations with 66085 users and 9952 items.
PROGRESS:     Data prepared in: 1.78757s
PROGRESS: 893580 observations to process; with 9952 unique items.
In [28]:

pop_model.recommend(users=[users[0]])
Out[28]:
user_id	song	score	rank
b048033af070b5dbb18d5d0e5
f334c9390611b04 ...	Sehr kosmisch - Harmonia	4754.0	1
b048033af070b5dbb18d5d0e5
f334c9390611b04 ...	Undo - Björk	4227.0	2
b048033af070b5dbb18d5d0e5
f334c9390611b04 ...	You're The One - Dwight
Yoakam ...	3781.0	3
b048033af070b5dbb18d5d0e5
f334c9390611b04 ...	Revelry - Kings Of Leon	3527.0	4
b048033af070b5dbb18d5d0e5
f334c9390611b04 ...	Horn Concerto No. 4 in E
flat K495: II. Romance ...	3161.0	5
b048033af070b5dbb18d5d0e5
f334c9390611b04 ...	Secrets - OneRepublic	3148.0	6
b048033af070b5dbb18d5d0e5
f334c9390611b04 ...	Hey_ Soul Sister - Train	2538.0	7
b048033af070b5dbb18d5d0e5
f334c9390611b04 ...	Fireflies - Charttraxx
Karaoke ...	2532.0	8
b048033af070b5dbb18d5d0e5
f334c9390611b04 ...	Tive Sim - Cartola	2521.0	9
b048033af070b5dbb18d5d0e5
f334c9390611b04 ...	Drop The World - Lil
Wayne / Eminem ...	2053.0	10
[10 rows x 4 columns]
In [29]:

pop_model.recommend(users=[users[1]])
Out[29]:
user_id	song	score	rank
c66c10a9567f0d82ff31441a9
fd5063e5cd9dfe8 ...	Sehr kosmisch - Harmonia	4754.0	1
c66c10a9567f0d82ff31441a9
fd5063e5cd9dfe8 ...	Undo - Björk	4227.0	2
c66c10a9567f0d82ff31441a9
fd5063e5cd9dfe8 ...	You're The One - Dwight
Yoakam ...	3781.0	3
c66c10a9567f0d82ff31441a9
fd5063e5cd9dfe8 ...	Dog Days Are Over (Radio
Edit) - Florence + The ...	3633.0	4
c66c10a9567f0d82ff31441a9
fd5063e5cd9dfe8 ...	Revelry - Kings Of Leon	3527.0	5
c66c10a9567f0d82ff31441a9
fd5063e5cd9dfe8 ...	Horn Concerto No. 4 in E
flat K495: II. Romance ...	3161.0	6
c66c10a9567f0d82ff31441a9
fd5063e5cd9dfe8 ...	Secrets - OneRepublic	3148.0	7
c66c10a9567f0d82ff31441a9
fd5063e5cd9dfe8 ...	Fireflies - Charttraxx
Karaoke ...	2532.0	8
c66c10a9567f0d82ff31441a9
fd5063e5cd9dfe8 ...	Tive Sim - Cartola	2521.0	9
c66c10a9567f0d82ff31441a9
fd5063e5cd9dfe8 ...	Drop The World - Lil
Wayne / Eminem ...	2053.0	10
[10 rows x 4 columns]
In [30]:

##built a personalized song recommender 
person_model = gl.item_similarity_recommender.create(train_data, user_id='user_id', item_id='song')
PROGRESS: Recsys training: model = item_similarity
PROGRESS: Warning: Ignoring columns song_id, listen_count, title, artist;
PROGRESS:     To use one of these as a target column, set target = <column_name>
PROGRESS:     and use a method that allows the use of a target.
PROGRESS: Preparing data set.
PROGRESS:     Data has 893580 observations with 66085 users and 9952 items.
PROGRESS:     Data prepared in: 1.81717s
PROGRESS: Computing item similarity statistics:
PROGRESS: Computing most similar items for 9952 items:
PROGRESS: +-----------------+-----------------+
PROGRESS: | Number of items | Elapsed Time    |
PROGRESS: +-----------------+-----------------+
PROGRESS: | 1000            | 2.09331         |
PROGRESS: | 2000            | 2.24394         |
PROGRESS: | 3000            | 2.39073         |
PROGRESS: | 4000            | 2.53098         |
PROGRESS: | 5000            | 2.66809         |
PROGRESS: | 6000            | 2.80201         |
PROGRESS: | 7000            | 2.9286          |
PROGRESS: | 8000            | 3.04878         |
PROGRESS: | 9000            | 3.16138         |
PROGRESS: +-----------------+-----------------+
PROGRESS: Finished training in 3.45468s
In [31]:

person_model.recommend(users=[users[0]])
Out[31]:
user_id	song	score	rank
b048033af070b5dbb18d5d0e5
f334c9390611b04 ...	Fantasy - The xx	0.037720015587	1
b048033af070b5dbb18d5d0e5
f334c9390611b04 ...	Walk In The Park - Beach
House ...	0.02976011994	2
b048033af070b5dbb18d5d0e5
f334c9390611b04 ...	Lover Of Mine - Beach
House ...	0.0273156899811	3
b048033af070b5dbb18d5d0e5
f334c9390611b04 ...	Used To Be - Beach House	0.0258316352834	4
b048033af070b5dbb18d5d0e5
f334c9390611b04 ...	Norway - Beach House	0.0219293953923	5
b048033af070b5dbb18d5d0e5
f334c9390611b04 ...	Take Care - Beach House	0.021579303806	6
b048033af070b5dbb18d5d0e5
f334c9390611b04 ...	Paper Gangsta - Lady GaGa	0.0204163968481	7
b048033af070b5dbb18d5d0e5
f334c9390611b04 ...	Beautiful_ Dirty_ Rich -
Lady GaGa ...	0.0202445750201	8
b048033af070b5dbb18d5d0e5
f334c9390611b04 ...	Real Love - Beach House	0.0195482216248	9
b048033af070b5dbb18d5d0e5
f334c9390611b04 ...	Boys Boys Boys - Lady
GaGa ...	0.019074731889	10
[10 rows x 4 columns]
In [33]:

person_model.get_similar_items(['With Or Without You - U2'])
PROGRESS: Getting similar items completed in 0.001057
Out[33]:
song	similar	score	rank
With Or Without You - U2	I Still Haven't Found
What I'm Looking For ...	0.0428571428571	1
With Or Without You - U2	Hold Me_ Thrill Me_ Kiss
Me_ Kill Me - U2 ...	0.033734939759	2
With Or Without You - U2	Window In The Skies - U2	0.0328358208955	3
With Or Without You - U2	Vertigo - U2	0.0300751879699	4
With Or Without You - U2	Sunday Bloody Sunday - U2	0.0271317829457	5
With Or Without You - U2	Bad - U2	0.0251798561151	6
With Or Without You - U2	A Day Without Me - U2	0.0237154150198	7
With Or Without You - U2	Another Time Another
Place - U2 ...	0.020325203252	8
With Or Without You - U2	Walk On - U2	0.020202020202	9
With Or Without You - U2	Get On Your Boots - U2	0.0196850393701	10
[10 rows x 4 columns]
In [36]:

##comparision between global and personalized models
%matplotlib inline
model_performance = gl.recommender.util.compare_models(test_data, [pop_model, person_model], user_sample=.05)
compare_models: using 2931 users to estimate model performance
PROGRESS: Evaluate model M0
PROGRESS: recommendations finished on 1000/2931 queries. users per second: 1511.49
PROGRESS: recommendations finished on 2000/2931 queries. users per second: 1549.67

Precision and recall summary statistics by cutoff
[WARNING] Model trained without a target. Skipping RMSE computation.

+--------+-----------------+------------------+
| cutoff |  mean_precision |   mean_recall    |
+--------+-----------------+------------------+
|   1    |  0.029341521665 | 0.00782735498703 |
|   2    | 0.0276356192426 | 0.0151057526953  |
|   3    | 0.0266120777892 | 0.0209825694984  |
|   4    | 0.0247355851245 |  0.025314897014  |
|   5    | 0.0226543841692 |  0.028058887781  |
|   6    |  0.020755146139 | 0.0308239759095  |
|   7    | 0.0194472876151 | 0.0339594639477  |
|   8    | 0.0183810986012 | 0.0374028144484  |
|   9    | 0.0174760225937 | 0.0401531205508  |
|   10   | 0.0166496076424 | 0.0424196814663  |
+--------+-----------------+------------------+
[10 rows x 3 columns]

PROGRESS: Evaluate model M1
PROGRESS: recommendations finished on 1000/2931 queries. users per second: 687.707
PROGRESS: recommendations finished on 2000/2931 queries. users per second: 693.007

Precision and recall summary statistics by cutoff
[WARNING] Model trained without a target. Skipping RMSE computation.

+--------+-----------------+-----------------+
| cutoff |  mean_precision |   mean_recall   |
+--------+-----------------+-----------------+
|   1    |  0.181166837257 | 0.0568076255354 |
|   2    |  0.149607642443 | 0.0879822358298 |
|   3    |  0.13158194018  |  0.114068883409 |
|   4    |  0.121033776868 |  0.137269794147 |
|   5    |  0.111224837939 |  0.15507524327  |
|   6    |  0.103605140453 |  0.172466769822 |
|   7    |  0.095920456207 |  0.18452279224  |
|   8    | 0.0901569430229 |  0.198959443575 |
|   9    | 0.0854846658327 |  0.211517498508 |
|   10   | 0.0806891845786 |  0.221584385827 |
+--------+-----------------+-----------------+
[10 rows x 3 columns]

In [71]:

###find the most recommended songs for the first 10000 unique users
subset_users = test_data['user_id'].unique()[0:10000]
recom_songs = person_model.recommend(subset_users, k=1)
recom_songs
PROGRESS: recommendations finished on 1000/10000 queries. users per second: 760.63
PROGRESS: recommendations finished on 2000/10000 queries. users per second: 772.414
PROGRESS: recommendations finished on 3000/10000 queries. users per second: 773.629
PROGRESS: recommendations finished on 4000/10000 queries. users per second: 776.423
PROGRESS: recommendations finished on 5000/10000 queries. users per second: 776.098
PROGRESS: recommendations finished on 6000/10000 queries. users per second: 777.209
PROGRESS: recommendations finished on 7000/10000 queries. users per second: 781.885
PROGRESS: recommendations finished on 8000/10000 queries. users per second: 784.184
PROGRESS: recommendations finished on 9000/10000 queries. users per second: 784.856
PROGRESS: recommendations finished on 10000/10000 queries. users per second: 786.74
Out[71]:
user_id	song	score	rank
b048033af070b5dbb18d5d0e5
f334c9390611b04 ...	Fantasy - The xx	0.037720015587	1
c66c10a9567f0d82ff31441a9
fd5063e5cd9dfe8 ...	Cuando Pase El Temblor -
Soda Stereo ...	0.0194504525792	1
ed04954d5b6001c7945c6ac71
686c3bd4ecdacb3 ...	Coming Your Way - Iration	0.031314214241	1
b1e6e9563da324641e644c769
b7edf202186de47 ...	Pimpa's Paradise - Damian
Marley / Stephen Marl ...	0.0694444444444	1
02f015d32ac2cd1e52d26e3ec
36048711dd5711b ...	Where The Boat Leaves
From (Album) - Zac Brown ...	0.063530766032	1
91b986eeb5d81eec60dc4b136
f04c0cfd662d658 ...	Jezebel - Sade	0.0588785769489	1
f933855d675606737fdc191e9
edff7625d08aae8 ...	Schießt die Deutschen
raus - Mario Lang ...	0.0357374917866	1
4867d5516a280db13695b9b9c
7ce6b574f34c6b4 ...	Two Steps_ Twice - Foals	0.0104654895666	1
968f1baebc490d3c6999ee6c8
5c5cab8b726b347 ...	Me_ Myself And I -
Beyoncé ...	0.0183084820675	1
c067c22072a17d33310d7223d
7b79f819e48cf42 ...	Grind With Me (Explicit
Version) - Pretty Ricky ...	0.0459424433009	1
[10000 rows x 4 columns]
Note: Only the head of the SFrame is printed.
You can use print_rows(num_rows=m, num_columns=n) to print more rows and columns.
In [75]:

recom_songs.groupby(key_columns = 'song', operations={'count': gl.aggregate.COUNT('song')}).sort('count', ascending = False)
Out[75]:
song	count
Undo - Björk	447
Secrets - OneRepublic	373
Revelry - Kings Of Leon	228
You're The One - Dwight
Yoakam ...	179
Fireflies - Charttraxx
Karaoke ...	124
Hey_ Soul Sister - Train	117
Horn Concerto No. 4 in E
flat K495: II. Romance ...	95
OMG - Usher featuring
will.i.am ...	68
Sehr kosmisch - Harmonia	66
Dog Days Are Over (Radio
Edit) - Florence + The ...	52
[3119 rows x 2 columns]
Note: Only the head of the SFrame is printed.

 
