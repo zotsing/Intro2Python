
# coding: utf-8

# In[1]:

import graphlab as gl


# In[2]:

image_train = gl.SFrame('image_train_data/')
image_test  = gl.SFrame('image_test_data/')


# In[34]:

gl.canvas.set_target('ipynb')
image_train['image'].show()
image_train['label'].sketch_summary()


# In[4]:

image_train.head()


# In[5]:

###build a raw pixel classifier model
pixel_model = gl.logistic_classifier.create(image_train, target = 'label', features=['image_array'])


# In[7]:

##evaluate model accurancy
test_evl = pixel_model.evaluate(image_test)


# In[8]:

test_evl


# In[9]:

###check whether deep features extracted from a pre-trained model improve model
###deep_learning_model = graphlab.load_model('http://s3.amazonaws.com/GraphLab-Datasets/deeplearning/imagenet_model_iter45')
#image_train['deep_features'] = deep_learning_model.extract_features(image_train)
deep_model = gl.logistic_classifier.create(image_train, target = 'label', features = ['deep_features'])


# In[10]:

###evaluate model with deep features
test_deep = deep_model.evaluate(image_test)


# In[11]:

test_deep


# In[12]:

###deep features for image retrieval
##train a nn model for retrieving images using deep features
knn_model = gl.nearest_neighbors.create(image_train, features=['deep_features'], label = 'id')


# In[13]:

###using image retrieve model with deep features to find similar images
cat = image_train[18:19]
cat['image'].show()


# In[14]:

##find its nearest neighbors
knn_model.query(cat)


# In[19]:

##use a function to get image back from id
def get_images_from_id(query_result):
    return image_train.filter_by(query_result['reference_label'],'id')   ####select rows of data
cat_nn = get_images_from_id(knn_model.query(cat))


# In[23]:

cat_nn['image'].show()


# In[25]:

car = image_train[8:9]
car['image'].show()


# In[30]:

##create a lambda to find and show nn images
show_nn = lambda i: get_images_from_id(knn_model.query(image_train[i:i+1]))['image'].show()
show_nn(8)


# In[31]:

show_nn(10)


# In[36]:

q2 = knn_model.query(image_test[0:1])


# In[39]:

get_images_from_id(q2)['image'].show()


# In[63]:

dog = image_train[image_train['label'] == 'dog']
cat = image_train[image_train['label'] == 'cat']
car = image_train[image_train['label'] == 'automobile']
bird = image_train[image_train['label'] == 'bird']
test_dog = image_test[image_test['label'] == 'dog']
test_cat = image_test[image_test['label'] == 'cat']
test_car = image_test[image_test['label'] == 'automobile']
test_bird = image_test[image_test['label'] == 'bird']


# In[42]:

knn_dog = gl.nearest_neighbors.create(dog, features = ['deep_features'], label = 'id')


# In[43]:

knn_cat = gl.nearest_neighbors.create(cat, features = ['deep_features'], label = 'id')


# In[44]:

knn_car = gl.nearest_neighbors.create(car, features = ['deep_features'], label = 'id')


# In[45]:

knn_bird = gl.nearest_neighbors.create(bird, features = ['deep_features'], label = 'id')


# In[47]:

##find nn in the training images for the first cat in test images
get_images_from_id(knn_cat.query(image_test[0:1]))['image'].show()


# In[48]:

##find nn in training dog images for the first cat in test images
get_images_from_id(knn_dog.query(image_test[0:1]))['image'].show()


# In[53]:

firstcat = knn_cat.query(image_test[0:1])
firstcat['distance'].mean()


# In[54]:

dognn = knn_dog.query(image_test[0:1])


# In[57]:

dognn['distance'].mean()


# In[60]:

dog_1nn = gl.nearest_neighbors.create(dog, features = ['deep_features'],
                                      label = 'id', k = 1)


# In[65]:

dog_1nn.query(test_dog)


# In[71]:


##store distance compuated using dog 1 nn model
new_sframe = gl.SFrame({'dog-cat': dog_1nn.query(test_cat)['distance'],
                       'dog-dog': dog_1nn.query(test_dog)['distance'],
                       'dog-car': dog_1nn.query(test_car)['distance'],
                        'dog-bird':dog_1nn.query(test_bird)['distance']})


# In[72]:

new_sframe


# In[80]:

new_sframe[0]['dog-bird']


# In[74]:

new_sframe[0].min()


# In[98]:

##compute the correctness of dog classifier
def dog_correct(row):
    correct = 0
    if ((row['dog-dog'] <= row['dog-cat']) 
            and (row['dog-dog'] <= row['dog-bird']) 
            and (row['dog-dog'] <= row['dog-car'])):
                 correct = 1
    return correct
new_sframe['correct'] = new_sframe.apply(dog_correct)


# In[99]:

new_sframe.head()


# In[100]:

new_sframe['correct'].sum() * 1.0 /len(new_sframe) 


# In[101]:

new_sframe['correct'].sum()





